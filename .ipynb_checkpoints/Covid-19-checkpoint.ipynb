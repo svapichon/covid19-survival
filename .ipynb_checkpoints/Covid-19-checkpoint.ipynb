{
 "cells": [
  {
   "cell_type": "code",
   "execution_count": 69,
   "id": "ea0e53d4",
   "metadata": {},
   "outputs": [],
   "source": [
    "import pandas as pd\n",
    "import numpy as np\n",
    "import matplotlib.pyplot as plt\n",
    "import seaborn as sns\n",
    "\n",
    "from imblearn.over_sampling import RandomOverSampler\n",
    "from imblearn.under_sampling import RandomUnderSampler\n",
    "# from sklearn.feature_selection import SelectKBest, chi2, SelectPercentile, SelectFromModel\n",
    "from sklearn.model_selection import train_test_split, cross_val_score, StratifiedKFold, RandomizedSearchCV, GridSearchCV\n",
    "from sklearn.metrics import f1_score, recall_score, precision_score, roc_auc_score, ConfusionMatrixDisplay, RocCurveDisplay\n",
    "from sklearn.linear_model import LogisticRegression\n",
    "from sklearn.ensemble import RandomForestClassifier\n",
    "import joblib\n",
    "import warnings\n",
    "warnings.filterwarnings('ignore')"
   ]
  },
  {
   "cell_type": "code",
   "execution_count": 2,
   "id": "918c77b9",
   "metadata": {},
   "outputs": [
    {
     "data": {
      "text/html": [
       "<div>\n",
       "<style scoped>\n",
       "    .dataframe tbody tr th:only-of-type {\n",
       "        vertical-align: middle;\n",
       "    }\n",
       "\n",
       "    .dataframe tbody tr th {\n",
       "        vertical-align: top;\n",
       "    }\n",
       "\n",
       "    .dataframe thead th {\n",
       "        text-align: right;\n",
       "    }\n",
       "</style>\n",
       "<table border=\"1\" class=\"dataframe\">\n",
       "  <thead>\n",
       "    <tr style=\"text-align: right;\">\n",
       "      <th></th>\n",
       "      <th>usmer</th>\n",
       "      <th>medical_unit</th>\n",
       "      <th>sex</th>\n",
       "      <th>patient_type</th>\n",
       "      <th>date_died</th>\n",
       "      <th>intubed</th>\n",
       "      <th>pneumonia</th>\n",
       "      <th>age</th>\n",
       "      <th>pregnant</th>\n",
       "      <th>diabetes</th>\n",
       "      <th>...</th>\n",
       "      <th>asthma</th>\n",
       "      <th>immuno</th>\n",
       "      <th>hypertension</th>\n",
       "      <th>other_disease</th>\n",
       "      <th>cardiovascular</th>\n",
       "      <th>obesity</th>\n",
       "      <th>renal</th>\n",
       "      <th>tobacco</th>\n",
       "      <th>classification</th>\n",
       "      <th>icu</th>\n",
       "    </tr>\n",
       "  </thead>\n",
       "  <tbody>\n",
       "    <tr>\n",
       "      <th>0</th>\n",
       "      <td>2</td>\n",
       "      <td>1</td>\n",
       "      <td>1</td>\n",
       "      <td>1</td>\n",
       "      <td>03/05/2020</td>\n",
       "      <td>97</td>\n",
       "      <td>1</td>\n",
       "      <td>65</td>\n",
       "      <td>2</td>\n",
       "      <td>2</td>\n",
       "      <td>...</td>\n",
       "      <td>2</td>\n",
       "      <td>2</td>\n",
       "      <td>1</td>\n",
       "      <td>2</td>\n",
       "      <td>2</td>\n",
       "      <td>2</td>\n",
       "      <td>2</td>\n",
       "      <td>2</td>\n",
       "      <td>3</td>\n",
       "      <td>97</td>\n",
       "    </tr>\n",
       "    <tr>\n",
       "      <th>1</th>\n",
       "      <td>2</td>\n",
       "      <td>1</td>\n",
       "      <td>2</td>\n",
       "      <td>1</td>\n",
       "      <td>03/06/2020</td>\n",
       "      <td>97</td>\n",
       "      <td>1</td>\n",
       "      <td>72</td>\n",
       "      <td>97</td>\n",
       "      <td>2</td>\n",
       "      <td>...</td>\n",
       "      <td>2</td>\n",
       "      <td>2</td>\n",
       "      <td>1</td>\n",
       "      <td>2</td>\n",
       "      <td>2</td>\n",
       "      <td>1</td>\n",
       "      <td>1</td>\n",
       "      <td>2</td>\n",
       "      <td>5</td>\n",
       "      <td>97</td>\n",
       "    </tr>\n",
       "    <tr>\n",
       "      <th>2</th>\n",
       "      <td>2</td>\n",
       "      <td>1</td>\n",
       "      <td>2</td>\n",
       "      <td>2</td>\n",
       "      <td>09/06/2020</td>\n",
       "      <td>1</td>\n",
       "      <td>2</td>\n",
       "      <td>55</td>\n",
       "      <td>97</td>\n",
       "      <td>1</td>\n",
       "      <td>...</td>\n",
       "      <td>2</td>\n",
       "      <td>2</td>\n",
       "      <td>2</td>\n",
       "      <td>2</td>\n",
       "      <td>2</td>\n",
       "      <td>2</td>\n",
       "      <td>2</td>\n",
       "      <td>2</td>\n",
       "      <td>3</td>\n",
       "      <td>2</td>\n",
       "    </tr>\n",
       "    <tr>\n",
       "      <th>3</th>\n",
       "      <td>2</td>\n",
       "      <td>1</td>\n",
       "      <td>1</td>\n",
       "      <td>1</td>\n",
       "      <td>12/06/2020</td>\n",
       "      <td>97</td>\n",
       "      <td>2</td>\n",
       "      <td>53</td>\n",
       "      <td>2</td>\n",
       "      <td>2</td>\n",
       "      <td>...</td>\n",
       "      <td>2</td>\n",
       "      <td>2</td>\n",
       "      <td>2</td>\n",
       "      <td>2</td>\n",
       "      <td>2</td>\n",
       "      <td>2</td>\n",
       "      <td>2</td>\n",
       "      <td>2</td>\n",
       "      <td>7</td>\n",
       "      <td>97</td>\n",
       "    </tr>\n",
       "    <tr>\n",
       "      <th>4</th>\n",
       "      <td>2</td>\n",
       "      <td>1</td>\n",
       "      <td>2</td>\n",
       "      <td>1</td>\n",
       "      <td>21/06/2020</td>\n",
       "      <td>97</td>\n",
       "      <td>2</td>\n",
       "      <td>68</td>\n",
       "      <td>97</td>\n",
       "      <td>1</td>\n",
       "      <td>...</td>\n",
       "      <td>2</td>\n",
       "      <td>2</td>\n",
       "      <td>1</td>\n",
       "      <td>2</td>\n",
       "      <td>2</td>\n",
       "      <td>2</td>\n",
       "      <td>2</td>\n",
       "      <td>2</td>\n",
       "      <td>3</td>\n",
       "      <td>97</td>\n",
       "    </tr>\n",
       "  </tbody>\n",
       "</table>\n",
       "<p>5 rows × 21 columns</p>\n",
       "</div>"
      ],
      "text/plain": [
       "   usmer  medical_unit  sex  patient_type   date_died  intubed  pneumonia  \\\n",
       "0      2             1    1             1  03/05/2020       97          1   \n",
       "1      2             1    2             1  03/06/2020       97          1   \n",
       "2      2             1    2             2  09/06/2020        1          2   \n",
       "3      2             1    1             1  12/06/2020       97          2   \n",
       "4      2             1    2             1  21/06/2020       97          2   \n",
       "\n",
       "   age  pregnant  diabetes  ...  asthma  immuno  hypertension  other_disease  \\\n",
       "0   65         2         2  ...       2       2             1              2   \n",
       "1   72        97         2  ...       2       2             1              2   \n",
       "2   55        97         1  ...       2       2             2              2   \n",
       "3   53         2         2  ...       2       2             2              2   \n",
       "4   68        97         1  ...       2       2             1              2   \n",
       "\n",
       "   cardiovascular  obesity  renal  tobacco  classification  icu  \n",
       "0               2        2      2        2               3   97  \n",
       "1               2        1      1        2               5   97  \n",
       "2               2        2      2        2               3    2  \n",
       "3               2        2      2        2               7   97  \n",
       "4               2        2      2        2               3   97  \n",
       "\n",
       "[5 rows x 21 columns]"
      ]
     },
     "execution_count": 2,
     "metadata": {},
     "output_type": "execute_result"
    }
   ],
   "source": [
    "def covid_data():\n",
    "    covid = pd.read_csv('Covid Data.csv')\n",
    "    \n",
    "    covid.columns = [x.lower() for x in covid.columns] # Lowercase all column names\n",
    "    \n",
    "    covid = covid.rename(columns={'inmsupr':'immuno','hipertension':'hypertension',\n",
    "                                  'clasiffication_final':'classification','renal_chronic':'renal'})\n",
    "    \n",
    "    return covid\n",
    "\n",
    "covid = covid_data()\n",
    "covid.head()"
   ]
  },
  {
   "cell_type": "code",
   "execution_count": 3,
   "id": "42e19c77",
   "metadata": {
    "scrolled": true
   },
   "outputs": [
    {
     "data": {
      "text/plain": [
       "usmer             0\n",
       "medical_unit      0\n",
       "sex               0\n",
       "patient_type      0\n",
       "date_died         0\n",
       "intubed           0\n",
       "pneumonia         0\n",
       "age               0\n",
       "pregnant          0\n",
       "diabetes          0\n",
       "copd              0\n",
       "asthma            0\n",
       "immuno            0\n",
       "hypertension      0\n",
       "other_disease     0\n",
       "cardiovascular    0\n",
       "obesity           0\n",
       "renal             0\n",
       "tobacco           0\n",
       "classification    0\n",
       "icu               0\n",
       "dtype: int64"
      ]
     },
     "execution_count": 3,
     "metadata": {},
     "output_type": "execute_result"
    }
   ],
   "source": [
    "# Check for NaN\n",
    "covid.isna().sum()"
   ]
  },
  {
   "cell_type": "code",
   "execution_count": 4,
   "id": "060a6fcf",
   "metadata": {},
   "outputs": [
    {
     "data": {
      "text/plain": [
       "0.0    971633\n",
       "1.0     76942\n",
       "Name: died, dtype: int64"
      ]
     },
     "execution_count": 4,
     "metadata": {},
     "output_type": "execute_result"
    }
   ],
   "source": [
    "# Map all date of death '9999-99-99' into new column as 0 to specify that case has not died\n",
    "covid['died'] = covid.date_died.map({'9999-99-99':0}) \n",
    "\n",
    "# Recode NaN from map with 1 to specify that case has died\n",
    "covid['died'] = covid.died.fillna(1)\n",
    "\n",
    "# Confirm\n",
    "covid.died.value_counts()\n",
    "# covid.loc[covid['date_died'] == '9999-99-99', ['date_died']].count() # confirm original"
   ]
  },
  {
   "cell_type": "code",
   "execution_count": 5,
   "id": "49202bf3",
   "metadata": {},
   "outputs": [
    {
     "data": {
      "text/plain": [
       "(1048575, 22)"
      ]
     },
     "execution_count": 5,
     "metadata": {},
     "output_type": "execute_result"
    }
   ],
   "source": [
    "covid.shape"
   ]
  },
  {
   "cell_type": "code",
   "execution_count": 6,
   "id": "0b6afba2",
   "metadata": {},
   "outputs": [
    {
     "data": {
      "text/plain": [
       "1    848544\n",
       "2    200031\n",
       "Name: patient_type, dtype: int64"
      ]
     },
     "execution_count": 6,
     "metadata": {},
     "output_type": "execute_result"
    }
   ],
   "source": [
    "covid.patient_type.value_counts() # 1=returned home, 2=hospitalized"
   ]
  },
  {
   "cell_type": "code",
   "execution_count": 7,
   "id": "7e0ad1c2",
   "metadata": {},
   "outputs": [],
   "source": [
    "# Drop these two columns before recoding\n",
    "covid2 = covid.drop(['age','date_died'], axis=1)\n",
    "\n",
    "# Convert all columns to int\n",
    "covid2 = covid2.astype(int)\n",
    "\n",
    "# Recode as np.nan (missing) for all columns\n",
    "covid2 = covid2.replace([97,98,99], np.nan)\n",
    "\n",
    "# Recode all columns: 2 to 0\n",
    "covid2 = covid2.replace(2, 0)"
   ]
  },
  {
   "cell_type": "code",
   "execution_count": 8,
   "id": "b81dbe42",
   "metadata": {},
   "outputs": [
    {
     "data": {
      "text/plain": [
       "1    848544\n",
       "0    200031\n",
       "Name: patient_type, dtype: int64"
      ]
     },
     "execution_count": 8,
     "metadata": {},
     "output_type": "execute_result"
    }
   ],
   "source": [
    "covid2.patient_type.value_counts() # 1=returned home, 0=hospitalized"
   ]
  },
  {
   "cell_type": "code",
   "execution_count": 9,
   "id": "cfb8208d",
   "metadata": {},
   "outputs": [
    {
     "data": {
      "text/plain": [
       "0    848544\n",
       "1    200031\n",
       "Name: patient_type, dtype: int64"
      ]
     },
     "execution_count": 9,
     "metadata": {},
     "output_type": "execute_result"
    }
   ],
   "source": [
    "covid2['patient_type'] = covid2.patient_type.map({0:1, 1:0}) # 0=returned home, 1=hospitalized\n",
    "covid2.patient_type.value_counts()"
   ]
  },
  {
   "cell_type": "code",
   "execution_count": 10,
   "id": "dd76e7c2",
   "metadata": {},
   "outputs": [
    {
     "data": {
      "text/html": [
       "<div>\n",
       "<style scoped>\n",
       "    .dataframe tbody tr th:only-of-type {\n",
       "        vertical-align: middle;\n",
       "    }\n",
       "\n",
       "    .dataframe tbody tr th {\n",
       "        vertical-align: top;\n",
       "    }\n",
       "\n",
       "    .dataframe thead th {\n",
       "        text-align: right;\n",
       "    }\n",
       "</style>\n",
       "<table border=\"1\" class=\"dataframe\">\n",
       "  <thead>\n",
       "    <tr style=\"text-align: right;\">\n",
       "      <th></th>\n",
       "      <th>age</th>\n",
       "      <th>usmer</th>\n",
       "      <th>medical_unit</th>\n",
       "      <th>sex</th>\n",
       "      <th>patient_type</th>\n",
       "      <th>intubed</th>\n",
       "      <th>pneumonia</th>\n",
       "      <th>pregnant</th>\n",
       "      <th>diabetes</th>\n",
       "      <th>copd</th>\n",
       "      <th>...</th>\n",
       "      <th>immuno</th>\n",
       "      <th>hypertension</th>\n",
       "      <th>other_disease</th>\n",
       "      <th>cardiovascular</th>\n",
       "      <th>obesity</th>\n",
       "      <th>renal</th>\n",
       "      <th>tobacco</th>\n",
       "      <th>classification</th>\n",
       "      <th>icu</th>\n",
       "      <th>died</th>\n",
       "    </tr>\n",
       "  </thead>\n",
       "  <tbody>\n",
       "    <tr>\n",
       "      <th>0</th>\n",
       "      <td>65</td>\n",
       "      <td>0</td>\n",
       "      <td>1</td>\n",
       "      <td>1</td>\n",
       "      <td>0</td>\n",
       "      <td>NaN</td>\n",
       "      <td>1.0</td>\n",
       "      <td>0.0</td>\n",
       "      <td>0.0</td>\n",
       "      <td>0.0</td>\n",
       "      <td>...</td>\n",
       "      <td>0.0</td>\n",
       "      <td>1.0</td>\n",
       "      <td>0.0</td>\n",
       "      <td>0.0</td>\n",
       "      <td>0.0</td>\n",
       "      <td>0.0</td>\n",
       "      <td>0.0</td>\n",
       "      <td>3</td>\n",
       "      <td>NaN</td>\n",
       "      <td>1</td>\n",
       "    </tr>\n",
       "    <tr>\n",
       "      <th>1</th>\n",
       "      <td>72</td>\n",
       "      <td>0</td>\n",
       "      <td>1</td>\n",
       "      <td>0</td>\n",
       "      <td>0</td>\n",
       "      <td>NaN</td>\n",
       "      <td>1.0</td>\n",
       "      <td>NaN</td>\n",
       "      <td>0.0</td>\n",
       "      <td>0.0</td>\n",
       "      <td>...</td>\n",
       "      <td>0.0</td>\n",
       "      <td>1.0</td>\n",
       "      <td>0.0</td>\n",
       "      <td>0.0</td>\n",
       "      <td>1.0</td>\n",
       "      <td>1.0</td>\n",
       "      <td>0.0</td>\n",
       "      <td>5</td>\n",
       "      <td>NaN</td>\n",
       "      <td>1</td>\n",
       "    </tr>\n",
       "    <tr>\n",
       "      <th>2</th>\n",
       "      <td>55</td>\n",
       "      <td>0</td>\n",
       "      <td>1</td>\n",
       "      <td>0</td>\n",
       "      <td>1</td>\n",
       "      <td>1.0</td>\n",
       "      <td>0.0</td>\n",
       "      <td>NaN</td>\n",
       "      <td>1.0</td>\n",
       "      <td>0.0</td>\n",
       "      <td>...</td>\n",
       "      <td>0.0</td>\n",
       "      <td>0.0</td>\n",
       "      <td>0.0</td>\n",
       "      <td>0.0</td>\n",
       "      <td>0.0</td>\n",
       "      <td>0.0</td>\n",
       "      <td>0.0</td>\n",
       "      <td>3</td>\n",
       "      <td>0.0</td>\n",
       "      <td>1</td>\n",
       "    </tr>\n",
       "    <tr>\n",
       "      <th>3</th>\n",
       "      <td>53</td>\n",
       "      <td>0</td>\n",
       "      <td>1</td>\n",
       "      <td>1</td>\n",
       "      <td>0</td>\n",
       "      <td>NaN</td>\n",
       "      <td>0.0</td>\n",
       "      <td>0.0</td>\n",
       "      <td>0.0</td>\n",
       "      <td>0.0</td>\n",
       "      <td>...</td>\n",
       "      <td>0.0</td>\n",
       "      <td>0.0</td>\n",
       "      <td>0.0</td>\n",
       "      <td>0.0</td>\n",
       "      <td>0.0</td>\n",
       "      <td>0.0</td>\n",
       "      <td>0.0</td>\n",
       "      <td>7</td>\n",
       "      <td>NaN</td>\n",
       "      <td>1</td>\n",
       "    </tr>\n",
       "    <tr>\n",
       "      <th>4</th>\n",
       "      <td>68</td>\n",
       "      <td>0</td>\n",
       "      <td>1</td>\n",
       "      <td>0</td>\n",
       "      <td>0</td>\n",
       "      <td>NaN</td>\n",
       "      <td>0.0</td>\n",
       "      <td>NaN</td>\n",
       "      <td>1.0</td>\n",
       "      <td>0.0</td>\n",
       "      <td>...</td>\n",
       "      <td>0.0</td>\n",
       "      <td>1.0</td>\n",
       "      <td>0.0</td>\n",
       "      <td>0.0</td>\n",
       "      <td>0.0</td>\n",
       "      <td>0.0</td>\n",
       "      <td>0.0</td>\n",
       "      <td>3</td>\n",
       "      <td>NaN</td>\n",
       "      <td>1</td>\n",
       "    </tr>\n",
       "  </tbody>\n",
       "</table>\n",
       "<p>5 rows × 21 columns</p>\n",
       "</div>"
      ],
      "text/plain": [
       "   age  usmer  medical_unit  sex  patient_type  intubed  pneumonia  pregnant  \\\n",
       "0   65      0             1    1             0      NaN        1.0       0.0   \n",
       "1   72      0             1    0             0      NaN        1.0       NaN   \n",
       "2   55      0             1    0             1      1.0        0.0       NaN   \n",
       "3   53      0             1    1             0      NaN        0.0       0.0   \n",
       "4   68      0             1    0             0      NaN        0.0       NaN   \n",
       "\n",
       "   diabetes  copd  ...  immuno  hypertension  other_disease  cardiovascular  \\\n",
       "0       0.0   0.0  ...     0.0           1.0            0.0             0.0   \n",
       "1       0.0   0.0  ...     0.0           1.0            0.0             0.0   \n",
       "2       1.0   0.0  ...     0.0           0.0            0.0             0.0   \n",
       "3       0.0   0.0  ...     0.0           0.0            0.0             0.0   \n",
       "4       1.0   0.0  ...     0.0           1.0            0.0             0.0   \n",
       "\n",
       "   obesity  renal  tobacco  classification  icu  died  \n",
       "0      0.0    0.0      0.0               3  NaN     1  \n",
       "1      1.0    1.0      0.0               5  NaN     1  \n",
       "2      0.0    0.0      0.0               3  0.0     1  \n",
       "3      0.0    0.0      0.0               7  NaN     1  \n",
       "4      0.0    0.0      0.0               3  NaN     1  \n",
       "\n",
       "[5 rows x 21 columns]"
      ]
     },
     "execution_count": 10,
     "metadata": {},
     "output_type": "execute_result"
    }
   ],
   "source": [
    "# Combine 'age' back into main dataframe\n",
    "covid_clean = pd.concat([covid.age, covid2], axis=1)\n",
    "covid_clean.head()"
   ]
  },
  {
   "cell_type": "code",
   "execution_count": 11,
   "id": "284bcdaa",
   "metadata": {
    "scrolled": true
   },
   "outputs": [
    {
     "data": {
      "text/plain": [
       "age                    0\n",
       "usmer                  0\n",
       "medical_unit           0\n",
       "sex                    0\n",
       "patient_type           0\n",
       "intubed           855869\n",
       "pneumonia          16003\n",
       "pregnant          527265\n",
       "diabetes            3338\n",
       "copd                3003\n",
       "asthma              2979\n",
       "immuno              3404\n",
       "hypertension        3104\n",
       "other_disease       5045\n",
       "cardiovascular      3076\n",
       "obesity             3032\n",
       "renal               3006\n",
       "tobacco             3220\n",
       "classification         0\n",
       "icu               856032\n",
       "died                   0\n",
       "dtype: int64"
      ]
     },
     "execution_count": 11,
     "metadata": {},
     "output_type": "execute_result"
    }
   ],
   "source": [
    "covid_clean.isna().sum()"
   ]
  },
  {
   "cell_type": "code",
   "execution_count": 12,
   "id": "12f0c147",
   "metadata": {},
   "outputs": [
    {
     "data": {
      "text/html": [
       "<div>\n",
       "<style scoped>\n",
       "    .dataframe tbody tr th:only-of-type {\n",
       "        vertical-align: middle;\n",
       "    }\n",
       "\n",
       "    .dataframe tbody tr th {\n",
       "        vertical-align: top;\n",
       "    }\n",
       "\n",
       "    .dataframe thead th {\n",
       "        text-align: right;\n",
       "    }\n",
       "</style>\n",
       "<table border=\"1\" class=\"dataframe\">\n",
       "  <thead>\n",
       "    <tr style=\"text-align: right;\">\n",
       "      <th></th>\n",
       "      <th>age</th>\n",
       "      <th>sex</th>\n",
       "      <th>patient_type</th>\n",
       "      <th>pneumonia</th>\n",
       "      <th>diabetes</th>\n",
       "      <th>copd</th>\n",
       "      <th>asthma</th>\n",
       "      <th>immuno</th>\n",
       "      <th>hypertension</th>\n",
       "      <th>cardiovascular</th>\n",
       "      <th>obesity</th>\n",
       "      <th>renal</th>\n",
       "      <th>tobacco</th>\n",
       "      <th>died</th>\n",
       "    </tr>\n",
       "  </thead>\n",
       "  <tbody>\n",
       "    <tr>\n",
       "      <th>0</th>\n",
       "      <td>65</td>\n",
       "      <td>1</td>\n",
       "      <td>0</td>\n",
       "      <td>1.0</td>\n",
       "      <td>0.0</td>\n",
       "      <td>0.0</td>\n",
       "      <td>0.0</td>\n",
       "      <td>0.0</td>\n",
       "      <td>1.0</td>\n",
       "      <td>0.0</td>\n",
       "      <td>0.0</td>\n",
       "      <td>0.0</td>\n",
       "      <td>0.0</td>\n",
       "      <td>1</td>\n",
       "    </tr>\n",
       "    <tr>\n",
       "      <th>1</th>\n",
       "      <td>72</td>\n",
       "      <td>0</td>\n",
       "      <td>0</td>\n",
       "      <td>1.0</td>\n",
       "      <td>0.0</td>\n",
       "      <td>0.0</td>\n",
       "      <td>0.0</td>\n",
       "      <td>0.0</td>\n",
       "      <td>1.0</td>\n",
       "      <td>0.0</td>\n",
       "      <td>1.0</td>\n",
       "      <td>1.0</td>\n",
       "      <td>0.0</td>\n",
       "      <td>1</td>\n",
       "    </tr>\n",
       "    <tr>\n",
       "      <th>2</th>\n",
       "      <td>55</td>\n",
       "      <td>0</td>\n",
       "      <td>1</td>\n",
       "      <td>0.0</td>\n",
       "      <td>1.0</td>\n",
       "      <td>0.0</td>\n",
       "      <td>0.0</td>\n",
       "      <td>0.0</td>\n",
       "      <td>0.0</td>\n",
       "      <td>0.0</td>\n",
       "      <td>0.0</td>\n",
       "      <td>0.0</td>\n",
       "      <td>0.0</td>\n",
       "      <td>1</td>\n",
       "    </tr>\n",
       "    <tr>\n",
       "      <th>3</th>\n",
       "      <td>53</td>\n",
       "      <td>1</td>\n",
       "      <td>0</td>\n",
       "      <td>0.0</td>\n",
       "      <td>0.0</td>\n",
       "      <td>0.0</td>\n",
       "      <td>0.0</td>\n",
       "      <td>0.0</td>\n",
       "      <td>0.0</td>\n",
       "      <td>0.0</td>\n",
       "      <td>0.0</td>\n",
       "      <td>0.0</td>\n",
       "      <td>0.0</td>\n",
       "      <td>1</td>\n",
       "    </tr>\n",
       "    <tr>\n",
       "      <th>4</th>\n",
       "      <td>68</td>\n",
       "      <td>0</td>\n",
       "      <td>0</td>\n",
       "      <td>0.0</td>\n",
       "      <td>1.0</td>\n",
       "      <td>0.0</td>\n",
       "      <td>0.0</td>\n",
       "      <td>0.0</td>\n",
       "      <td>1.0</td>\n",
       "      <td>0.0</td>\n",
       "      <td>0.0</td>\n",
       "      <td>0.0</td>\n",
       "      <td>0.0</td>\n",
       "      <td>1</td>\n",
       "    </tr>\n",
       "  </tbody>\n",
       "</table>\n",
       "</div>"
      ],
      "text/plain": [
       "   age  sex  patient_type  pneumonia  diabetes  copd  asthma  immuno  \\\n",
       "0   65    1             0        1.0       0.0   0.0     0.0     0.0   \n",
       "1   72    0             0        1.0       0.0   0.0     0.0     0.0   \n",
       "2   55    0             1        0.0       1.0   0.0     0.0     0.0   \n",
       "3   53    1             0        0.0       0.0   0.0     0.0     0.0   \n",
       "4   68    0             0        0.0       1.0   0.0     0.0     0.0   \n",
       "\n",
       "   hypertension  cardiovascular  obesity  renal  tobacco  died  \n",
       "0           1.0             0.0      0.0    0.0      0.0     1  \n",
       "1           1.0             0.0      1.0    1.0      0.0     1  \n",
       "2           0.0             0.0      0.0    0.0      0.0     1  \n",
       "3           0.0             0.0      0.0    0.0      0.0     1  \n",
       "4           1.0             0.0      0.0    0.0      0.0     1  "
      ]
     },
     "execution_count": 12,
     "metadata": {},
     "output_type": "execute_result"
    }
   ],
   "source": [
    "# Drop these features\n",
    "covid_clean = covid_clean.drop(['usmer','medical_unit','intubed','pregnant',\n",
    "                                'other_disease','classification','icu'], axis=1)\n",
    "covid_clean.head()"
   ]
  },
  {
   "cell_type": "code",
   "execution_count": 13,
   "id": "21790244",
   "metadata": {
    "scrolled": false
   },
   "outputs": [
    {
     "data": {
      "text/plain": [
       "age                   0\n",
       "sex                   0\n",
       "patient_type          0\n",
       "pneumonia         16003\n",
       "diabetes           3338\n",
       "copd               3003\n",
       "asthma             2979\n",
       "immuno             3404\n",
       "hypertension       3104\n",
       "cardiovascular     3076\n",
       "obesity            3032\n",
       "renal              3006\n",
       "tobacco            3220\n",
       "died                  0\n",
       "dtype: int64"
      ]
     },
     "execution_count": 13,
     "metadata": {},
     "output_type": "execute_result"
    }
   ],
   "source": [
    "covid_clean.isna().sum()"
   ]
  },
  {
   "cell_type": "code",
   "execution_count": 14,
   "id": "2b6635cf",
   "metadata": {},
   "outputs": [
    {
     "data": {
      "text/plain": [
       "(1026832, 14)"
      ]
     },
     "execution_count": 14,
     "metadata": {},
     "output_type": "execute_result"
    }
   ],
   "source": [
    "# Drop rows with NaN\n",
    "covid_clean = covid_clean.dropna(how='any')\n",
    "\n",
    "# Convert all columns to int\n",
    "covid_clean = covid_clean.astype(int)\n",
    "\n",
    "# See shape\n",
    "covid_clean.shape"
   ]
  },
  {
   "cell_type": "code",
   "execution_count": 15,
   "id": "9840780f",
   "metadata": {
    "scrolled": true
   },
   "outputs": [
    {
     "name": "stdout",
     "output_type": "stream",
     "text": [
      "1    513984\n",
      "0    512848\n",
      "Name: sex, dtype: int64\n",
      "0    834166\n",
      "1    192666\n",
      "Name: patient_type, dtype: int64\n",
      "0    888573\n",
      "1    138259\n",
      "Name: pneumonia, dtype: int64\n",
      "0    904041\n",
      "1    122791\n",
      "Name: diabetes, dtype: int64\n",
      "0    1012398\n",
      "1      14434\n",
      "Name: copd, dtype: int64\n",
      "0    996284\n",
      "1     30548\n",
      "Name: asthma, dtype: int64\n",
      "0    1013166\n",
      "1      13666\n",
      "Name: immuno, dtype: int64\n",
      "0    866839\n",
      "1    159993\n",
      "Name: hypertension, dtype: int64\n",
      "0    1006618\n",
      "1      20214\n",
      "Name: cardiovascular, dtype: int64\n",
      "0    869519\n",
      "1    157313\n",
      "Name: obesity, dtype: int64\n",
      "0    1008423\n",
      "1      18409\n",
      "Name: renal, dtype: int64\n",
      "0    943940\n",
      "1     82892\n",
      "Name: tobacco, dtype: int64\n",
      "0    951850\n",
      "1     74982\n",
      "Name: died, dtype: int64\n"
     ]
    }
   ],
   "source": [
    "# Check to see that all columns (except 'age') are coded as 0 and 1\n",
    "for x in covid_clean.columns[1:]:\n",
    "    print(covid_clean[x].value_counts(dropna=False))"
   ]
  },
  {
   "cell_type": "code",
   "execution_count": 16,
   "id": "3f872964",
   "metadata": {},
   "outputs": [
    {
     "data": {
      "text/html": [
       "<div>\n",
       "<style scoped>\n",
       "    .dataframe tbody tr th:only-of-type {\n",
       "        vertical-align: middle;\n",
       "    }\n",
       "\n",
       "    .dataframe tbody tr th {\n",
       "        vertical-align: top;\n",
       "    }\n",
       "\n",
       "    .dataframe thead th {\n",
       "        text-align: right;\n",
       "    }\n",
       "</style>\n",
       "<table border=\"1\" class=\"dataframe\">\n",
       "  <thead>\n",
       "    <tr style=\"text-align: right;\">\n",
       "      <th></th>\n",
       "      <th>Age</th>\n",
       "      <th>Sex</th>\n",
       "      <th>Pneumonia</th>\n",
       "      <th>Diabetes</th>\n",
       "      <th>COPD</th>\n",
       "      <th>Asthma</th>\n",
       "      <th>Immunosuppressed</th>\n",
       "      <th>Hypertension</th>\n",
       "      <th>Cardiovascular</th>\n",
       "      <th>Obese</th>\n",
       "      <th>Chronic renal</th>\n",
       "      <th>Smoke</th>\n",
       "      <th>Hospitalized</th>\n",
       "      <th>Died</th>\n",
       "    </tr>\n",
       "  </thead>\n",
       "  <tbody>\n",
       "    <tr>\n",
       "      <th>0</th>\n",
       "      <td>65</td>\n",
       "      <td>1</td>\n",
       "      <td>1</td>\n",
       "      <td>0</td>\n",
       "      <td>0</td>\n",
       "      <td>0</td>\n",
       "      <td>0</td>\n",
       "      <td>1</td>\n",
       "      <td>0</td>\n",
       "      <td>0</td>\n",
       "      <td>0</td>\n",
       "      <td>0</td>\n",
       "      <td>0</td>\n",
       "      <td>1</td>\n",
       "    </tr>\n",
       "    <tr>\n",
       "      <th>1</th>\n",
       "      <td>72</td>\n",
       "      <td>0</td>\n",
       "      <td>1</td>\n",
       "      <td>0</td>\n",
       "      <td>0</td>\n",
       "      <td>0</td>\n",
       "      <td>0</td>\n",
       "      <td>1</td>\n",
       "      <td>0</td>\n",
       "      <td>1</td>\n",
       "      <td>1</td>\n",
       "      <td>0</td>\n",
       "      <td>0</td>\n",
       "      <td>1</td>\n",
       "    </tr>\n",
       "    <tr>\n",
       "      <th>2</th>\n",
       "      <td>55</td>\n",
       "      <td>0</td>\n",
       "      <td>0</td>\n",
       "      <td>1</td>\n",
       "      <td>0</td>\n",
       "      <td>0</td>\n",
       "      <td>0</td>\n",
       "      <td>0</td>\n",
       "      <td>0</td>\n",
       "      <td>0</td>\n",
       "      <td>0</td>\n",
       "      <td>0</td>\n",
       "      <td>1</td>\n",
       "      <td>1</td>\n",
       "    </tr>\n",
       "    <tr>\n",
       "      <th>3</th>\n",
       "      <td>53</td>\n",
       "      <td>1</td>\n",
       "      <td>0</td>\n",
       "      <td>0</td>\n",
       "      <td>0</td>\n",
       "      <td>0</td>\n",
       "      <td>0</td>\n",
       "      <td>0</td>\n",
       "      <td>0</td>\n",
       "      <td>0</td>\n",
       "      <td>0</td>\n",
       "      <td>0</td>\n",
       "      <td>0</td>\n",
       "      <td>1</td>\n",
       "    </tr>\n",
       "    <tr>\n",
       "      <th>4</th>\n",
       "      <td>68</td>\n",
       "      <td>0</td>\n",
       "      <td>0</td>\n",
       "      <td>1</td>\n",
       "      <td>0</td>\n",
       "      <td>0</td>\n",
       "      <td>0</td>\n",
       "      <td>1</td>\n",
       "      <td>0</td>\n",
       "      <td>0</td>\n",
       "      <td>0</td>\n",
       "      <td>0</td>\n",
       "      <td>0</td>\n",
       "      <td>1</td>\n",
       "    </tr>\n",
       "  </tbody>\n",
       "</table>\n",
       "</div>"
      ],
      "text/plain": [
       "   Age  Sex  Pneumonia  Diabetes  COPD  Asthma  Immunosuppressed  \\\n",
       "0   65    1          1         0     0       0                 0   \n",
       "1   72    0          1         0     0       0                 0   \n",
       "2   55    0          0         1     0       0                 0   \n",
       "3   53    1          0         0     0       0                 0   \n",
       "4   68    0          0         1     0       0                 0   \n",
       "\n",
       "   Hypertension  Cardiovascular  Obese  Chronic renal  Smoke  Hospitalized  \\\n",
       "0             1               0      0              0      0             0   \n",
       "1             1               0      1              1      0             0   \n",
       "2             0               0      0              0      0             1   \n",
       "3             0               0      0              0      0             0   \n",
       "4             1               0      0              0      0             0   \n",
       "\n",
       "   Died  \n",
       "0     1  \n",
       "1     1  \n",
       "2     1  \n",
       "3     1  \n",
       "4     1  "
      ]
     },
     "execution_count": 16,
     "metadata": {},
     "output_type": "execute_result"
    }
   ],
   "source": [
    "# Rearrange columns\n",
    "covid_clean = covid_clean[['age','sex','pneumonia','diabetes','copd','asthma','immuno','hypertension',\n",
    "                           'cardiovascular','obesity','renal','tobacco','patient_type','died']]\n",
    "\n",
    "# Rename columns\n",
    "covid_clean = covid_clean.rename(columns={'age':'Age','sex':'Sex','pneumonia':'Pneumonia','diabetes':'Diabetes',\n",
    "                                          'copd':'COPD','asthma':'Asthma','immuno':'Immunosuppressed',\n",
    "                                          'hypertension':'Hypertension','cardiovascular':'Cardiovascular',\n",
    "                                          'obesity':'Obese','renal':'Chronic renal','tobacco':'Smoke',\n",
    "                                          'patient_type':'Hospitalized','died':'Died'})\n",
    "\n",
    "covid_clean.head()"
   ]
  },
  {
   "cell_type": "code",
   "execution_count": 17,
   "id": "73dd3653",
   "metadata": {
    "scrolled": true
   },
   "outputs": [],
   "source": [
    "covid_clean.to_csv('final_covid.csv', index=False)"
   ]
  },
  {
   "cell_type": "markdown",
   "id": "e5f62dbf",
   "metadata": {},
   "source": [
    "# Data visualization"
   ]
  },
  {
   "cell_type": "code",
   "execution_count": 17,
   "id": "59060af9",
   "metadata": {},
   "outputs": [],
   "source": [
    "X = covid_clean.drop('Died', axis=1)\n",
    "y = covid_clean['Died']"
   ]
  },
  {
   "cell_type": "code",
   "execution_count": 18,
   "id": "893b53c2",
   "metadata": {
    "scrolled": true
   },
   "outputs": [
    {
     "name": "stdout",
     "output_type": "stream",
     "text": [
      "Sex        0       1      All\n",
      "Died                         \n",
      "0     464577  487273   951850\n",
      "1      48271   26711    74982\n",
      "All   512848  513984  1026832\n",
      "\n",
      "Pneumonia       0       1      All\n",
      "Died                              \n",
      "0          866613   85237   951850\n",
      "1           21960   53022    74982\n",
      "All        888573  138259  1026832\n",
      "\n",
      "Diabetes       0       1      All\n",
      "Died                             \n",
      "0         856852   94998   951850\n",
      "1          47189   27793    74982\n",
      "All       904041  122791  1026832\n",
      "\n",
      "COPD        0      1      All\n",
      "Died                         \n",
      "0      941300  10550   951850\n",
      "1       71098   3884    74982\n",
      "All   1012398  14434  1026832\n",
      "\n",
      "Asthma       0      1      All\n",
      "Died                          \n",
      "0       922749  29101   951850\n",
      "1        73535   1447    74982\n",
      "All     996284  30548  1026832\n",
      "\n",
      "Immunosuppressed        0      1      All\n",
      "Died                                     \n",
      "0                  940692  11158   951850\n",
      "1                   72474   2508    74982\n",
      "All               1013166  13666  1026832\n",
      "\n",
      "Hypertension       0       1      All\n",
      "Died                                 \n",
      "0             823426  128424   951850\n",
      "1              43413   31569    74982\n",
      "All           866839  159993  1026832\n",
      "\n",
      "Cardiovascular        0      1      All\n",
      "Died                                   \n",
      "0                935964  15886   951850\n",
      "1                 70654   4328    74982\n",
      "All             1006618  20214  1026832\n",
      "\n",
      "Obese       0       1      All\n",
      "Died                          \n",
      "0      811462  140388   951850\n",
      "1       58057   16925    74982\n",
      "All    869519  157313  1026832\n",
      "\n",
      "Chronic renal        0      1      All\n",
      "Died                                  \n",
      "0               939019  12831   951850\n",
      "1                69404   5578    74982\n",
      "All            1008423  18409  1026832\n",
      "\n",
      "Smoke       0      1      All\n",
      "Died                         \n",
      "0      875396  76454   951850\n",
      "1       68544   6438    74982\n",
      "All    943940  82892  1026832\n",
      "\n",
      "Hospitalized       0       1      All\n",
      "Died                                 \n",
      "0             827463  124387   951850\n",
      "1               6703   68279    74982\n",
      "All           834166  192666  1026832\n",
      "\n"
     ]
    }
   ],
   "source": [
    "for x in covid_clean.columns[1:-1]:\n",
    "    print(pd.crosstab(covid_clean.Died, covid_clean[x], margins=True))\n",
    "    print()"
   ]
  },
  {
   "cell_type": "code",
   "execution_count": 19,
   "id": "94538a32",
   "metadata": {
    "scrolled": true
   },
   "outputs": [
    {
     "data": {
      "text/html": [
       "<div>\n",
       "<style scoped>\n",
       "    .dataframe tbody tr th:only-of-type {\n",
       "        vertical-align: middle;\n",
       "    }\n",
       "\n",
       "    .dataframe tbody tr th {\n",
       "        vertical-align: top;\n",
       "    }\n",
       "\n",
       "    .dataframe thead th {\n",
       "        text-align: right;\n",
       "    }\n",
       "</style>\n",
       "<table border=\"1\" class=\"dataframe\">\n",
       "  <thead>\n",
       "    <tr style=\"text-align: right;\">\n",
       "      <th></th>\n",
       "      <th>feature</th>\n",
       "      <th>number</th>\n",
       "    </tr>\n",
       "  </thead>\n",
       "  <tbody>\n",
       "    <tr>\n",
       "      <th>4</th>\n",
       "      <td>Immunosuppressed</td>\n",
       "      <td>13666</td>\n",
       "    </tr>\n",
       "    <tr>\n",
       "      <th>2</th>\n",
       "      <td>COPD</td>\n",
       "      <td>14434</td>\n",
       "    </tr>\n",
       "    <tr>\n",
       "      <th>8</th>\n",
       "      <td>Chronic renal</td>\n",
       "      <td>18409</td>\n",
       "    </tr>\n",
       "    <tr>\n",
       "      <th>6</th>\n",
       "      <td>Cardiovascular</td>\n",
       "      <td>20214</td>\n",
       "    </tr>\n",
       "    <tr>\n",
       "      <th>3</th>\n",
       "      <td>Asthma</td>\n",
       "      <td>30548</td>\n",
       "    </tr>\n",
       "    <tr>\n",
       "      <th>11</th>\n",
       "      <td>Died</td>\n",
       "      <td>74982</td>\n",
       "    </tr>\n",
       "    <tr>\n",
       "      <th>9</th>\n",
       "      <td>Smoke</td>\n",
       "      <td>82892</td>\n",
       "    </tr>\n",
       "    <tr>\n",
       "      <th>1</th>\n",
       "      <td>Diabetes</td>\n",
       "      <td>122791</td>\n",
       "    </tr>\n",
       "    <tr>\n",
       "      <th>0</th>\n",
       "      <td>Pneumonia</td>\n",
       "      <td>138259</td>\n",
       "    </tr>\n",
       "    <tr>\n",
       "      <th>7</th>\n",
       "      <td>Obese</td>\n",
       "      <td>157313</td>\n",
       "    </tr>\n",
       "    <tr>\n",
       "      <th>5</th>\n",
       "      <td>Hypertension</td>\n",
       "      <td>159993</td>\n",
       "    </tr>\n",
       "    <tr>\n",
       "      <th>10</th>\n",
       "      <td>Hospitalized</td>\n",
       "      <td>192666</td>\n",
       "    </tr>\n",
       "  </tbody>\n",
       "</table>\n",
       "</div>"
      ],
      "text/plain": [
       "             feature  number\n",
       "4   Immunosuppressed   13666\n",
       "2               COPD   14434\n",
       "8      Chronic renal   18409\n",
       "6     Cardiovascular   20214\n",
       "3             Asthma   30548\n",
       "11              Died   74982\n",
       "9              Smoke   82892\n",
       "1           Diabetes  122791\n",
       "0          Pneumonia  138259\n",
       "7              Obese  157313\n",
       "5       Hypertension  159993\n",
       "10      Hospitalized  192666"
      ]
     },
     "execution_count": 19,
     "metadata": {},
     "output_type": "execute_result"
    }
   ],
   "source": [
    "# Create a dataframe of features sorted by the most 'yes' response for visualization.\n",
    "feature = []\n",
    "number = []\n",
    "\n",
    "for col in covid_clean.columns[2:]: # Exclude Age and Sex\n",
    "    count = covid_clean[col].sum()\n",
    "    feature.append(col)\n",
    "    number.append(count)\n",
    "    \n",
    "df_count = pd.concat([pd.DataFrame(feature, columns=['feature']), \n",
    "                      pd.DataFrame(number, columns=['number'])], axis=1).sort_values('number', ascending=True)\n",
    "df_count"
   ]
  },
  {
   "cell_type": "code",
   "execution_count": 20,
   "id": "c8f21bdf",
   "metadata": {},
   "outputs": [
    {
     "data": {
      "image/png": "[encoded data removed]",
      "text/plain": [
       "<Figure size 640x480 with 1 Axes>"
      ]
     },
     "metadata": {},
     "output_type": "display_data"
    }
   ],
   "source": [
    "# Create a barplot of features, excluding Age and Sex\n",
    "\n",
    "def create_barplot(sort_TF):\n",
    "    figure, ax = plt.subplots(1, 1)\n",
    "\n",
    "    n = 1\n",
    "    for col in df_count.sort_values('number', ascending=sort_TF).feature.values:\n",
    "        ax.bar(data=covid_clean, x=n, height=covid_clean[col].sum(), color='steelblue')\n",
    "        n += 1\n",
    "\n",
    "    ax.set_xticks(list(range(1,13))) # Tick number\n",
    "    label_names = list(df_count.sort_values('number', ascending=sort_TF).feature.values) # Tick label\n",
    "    ax.set_xticklabels(labels=label_names, rotation=45, ha='right') # Change labels according to sort\n",
    "\n",
    "    plt.xlabel('Features')\n",
    "    plt.ylabel('Count')\n",
    "    plt.title('Status of Covid-19 patients in dataset')\n",
    "    plt.grid(axis='y')\n",
    "    plt.show()\n",
    "    \n",
    "create_barplot(True) # True = ascending"
   ]
  },
  {
   "cell_type": "code",
   "execution_count": 21,
   "id": "91f8ca99",
   "metadata": {},
   "outputs": [
    {
     "data": {
      "image/png": "[encoded data removed]",
      "text/plain": [
       "<Figure size 640x480 with 1 Axes>"
      ]
     },
     "metadata": {},
     "output_type": "display_data"
    }
   ],
   "source": [
    "# Create a histogram of selected feature by age distribution\n",
    "\n",
    "def create_agedist(feature_name):\n",
    "    if feature_name == 'Sex': # Create unique legend name for Sex\n",
    "        legend_name = ['Male','Female']\n",
    "    else:\n",
    "        legend_name = ['Yes','No']\n",
    "\n",
    "    age_hist = sns.histplot(data=covid_clean, x='Age', bins=12, binrange=[0,120], \n",
    "                            hue=feature_name, palette=['steelblue','red'])\n",
    "\n",
    "    plt.xlabel('Age')\n",
    "    plt.ylabel('Count')\n",
    "    plt.title('Age distribution of all Covid-19 patients')\n",
    "    plt.legend(legend_name, title=feature_name, loc=1)\n",
    "    plt.grid(axis='y')\n",
    "    plt.show()\n",
    "\n",
    "create_agedist('Obese') # Enter name of feature"
   ]
  },
  {
   "cell_type": "markdown",
   "id": "7277cc9a",
   "metadata": {},
   "source": [
    "# Creating a model"
   ]
  },
  {
   "cell_type": "code",
   "execution_count": 22,
   "id": "81338baf",
   "metadata": {},
   "outputs": [
    {
     "data": {
      "text/plain": [
       "0    951850\n",
       "1     74982\n",
       "Name: Died, dtype: int64"
      ]
     },
     "execution_count": 22,
     "metadata": {},
     "output_type": "execute_result"
    }
   ],
   "source": [
    "covid_clean.Died.value_counts()"
   ]
  },
  {
   "cell_type": "code",
   "execution_count": 23,
   "id": "87934fc4",
   "metadata": {},
   "outputs": [
    {
     "name": "stdout",
     "output_type": "stream",
     "text": [
      "(205366, 14)\n",
      "(821466, 14)\n"
     ]
    }
   ],
   "source": [
    "holdout_id = covid_clean.sample(frac=0.2, random_state=1).index # Create a holdout set for final evaluation\n",
    "\n",
    "df_holdout = covid_clean[covid_clean.index.isin(holdout_id)]\n",
    "df_train = covid_clean[~covid_clean.index.isin(holdout_id)]\n",
    "print(df_holdout.shape)\n",
    "print(df_train.shape)"
   ]
  },
  {
   "cell_type": "code",
   "execution_count": 24,
   "id": "ad73b550",
   "metadata": {
    "scrolled": true
   },
   "outputs": [
    {
     "data": {
      "text/plain": [
       "0    761537\n",
       "1     59929\n",
       "Name: Died, dtype: int64"
      ]
     },
     "execution_count": 24,
     "metadata": {},
     "output_type": "execute_result"
    }
   ],
   "source": [
    "df_train.Died.value_counts()"
   ]
  },
  {
   "cell_type": "code",
   "execution_count": 25,
   "id": "2587a3a0",
   "metadata": {},
   "outputs": [],
   "source": [
    "X = df_train.drop('Died', axis=1)\n",
    "y = df_train.Died"
   ]
  },
  {
   "cell_type": "code",
   "execution_count": 27,
   "id": "33da06b3",
   "metadata": {},
   "outputs": [
    {
     "data": {
      "text/plain": [
       "0    119858\n",
       "1     59929\n",
       "Name: Died, dtype: int64"
      ]
     },
     "execution_count": 27,
     "metadata": {},
     "output_type": "execute_result"
    }
   ],
   "source": [
    "# Resample to get a more balanced number\n",
    "rus = RandomUnderSampler(sampling_strategy=0.5, random_state=1)\n",
    "X_res, y_res = rus.fit_resample(X, y)\n",
    "\n",
    "y_res.value_counts()\n",
    "\n",
    "# ros = RandomOverSampler(sampling_strategy=0.5, random_state=1)\n",
    "# X_res, y_res = ros.fit_resample(X, y)\n",
    "\n",
    "# y_res.value_counts()"
   ]
  },
  {
   "cell_type": "markdown",
   "id": "ee7e3cfe",
   "metadata": {},
   "source": [
    "### Logistic regression"
   ]
  },
  {
   "cell_type": "code",
   "execution_count": 78,
   "id": "34bd8452",
   "metadata": {
    "scrolled": false
   },
   "outputs": [
    {
     "name": "stdout",
     "output_type": "stream",
     "text": [
      "Wall time: 44.1 s\n"
     ]
    }
   ],
   "source": [
    "%%time\n",
    "\n",
    "clf = LogisticRegression(random_state=1, max_iter=1000)\n",
    "skf = StratifiedKFold(n_splits=5, shuffle=True, random_state=1)\n",
    "\n",
    "params = {'penalty':['l1','l2'],\n",
    "          'C':[0.1,1,10],\n",
    "          'solver':['lbfgs','liblinear']}\n",
    "\n",
    "grid_log = GridSearchCV(clf, params, cv=skf).fit(X_res, y_res)"
   ]
  },
  {
   "cell_type": "code",
   "execution_count": 79,
   "id": "7007271b",
   "metadata": {
    "scrolled": false
   },
   "outputs": [
    {
     "name": "stdout",
     "output_type": "stream",
     "text": [
      "0.8929844681656153\n",
      "{'C': 0.1, 'penalty': 'l2', 'solver': 'liblinear'}\n"
     ]
    }
   ],
   "source": [
    "print(grid_log.best_score_)\n",
    "print(grid_log.best_params_)"
   ]
  },
  {
   "cell_type": "code",
   "execution_count": 80,
   "id": "a12b2727",
   "metadata": {},
   "outputs": [
    {
     "data": {
      "text/html": [
       "<div>\n",
       "<style scoped>\n",
       "    .dataframe tbody tr th:only-of-type {\n",
       "        vertical-align: middle;\n",
       "    }\n",
       "\n",
       "    .dataframe tbody tr th {\n",
       "        vertical-align: top;\n",
       "    }\n",
       "\n",
       "    .dataframe thead th {\n",
       "        text-align: right;\n",
       "    }\n",
       "</style>\n",
       "<table border=\"1\" class=\"dataframe\">\n",
       "  <thead>\n",
       "    <tr style=\"text-align: right;\">\n",
       "      <th></th>\n",
       "      <th>params</th>\n",
       "      <th>mean_test_score</th>\n",
       "      <th>rank_test_score</th>\n",
       "    </tr>\n",
       "  </thead>\n",
       "  <tbody>\n",
       "    <tr>\n",
       "      <th>3</th>\n",
       "      <td>{'C': 0.1, 'penalty': 'l2', 'solver': 'libline...</td>\n",
       "      <td>0.892984</td>\n",
       "      <td>1</td>\n",
       "    </tr>\n",
       "    <tr>\n",
       "      <th>11</th>\n",
       "      <td>{'C': 10, 'penalty': 'l2', 'solver': 'liblinear'}</td>\n",
       "      <td>0.892957</td>\n",
       "      <td>2</td>\n",
       "    </tr>\n",
       "    <tr>\n",
       "      <th>2</th>\n",
       "      <td>{'C': 0.1, 'penalty': 'l2', 'solver': 'lbfgs'}</td>\n",
       "      <td>0.892951</td>\n",
       "      <td>3</td>\n",
       "    </tr>\n",
       "    <tr>\n",
       "      <th>5</th>\n",
       "      <td>{'C': 1, 'penalty': 'l1', 'solver': 'liblinear'}</td>\n",
       "      <td>0.892951</td>\n",
       "      <td>4</td>\n",
       "    </tr>\n",
       "    <tr>\n",
       "      <th>9</th>\n",
       "      <td>{'C': 10, 'penalty': 'l1', 'solver': 'liblinear'}</td>\n",
       "      <td>0.892951</td>\n",
       "      <td>5</td>\n",
       "    </tr>\n",
       "  </tbody>\n",
       "</table>\n",
       "</div>"
      ],
      "text/plain": [
       "                                               params  mean_test_score  \\\n",
       "3   {'C': 0.1, 'penalty': 'l2', 'solver': 'libline...         0.892984   \n",
       "11  {'C': 10, 'penalty': 'l2', 'solver': 'liblinear'}         0.892957   \n",
       "2      {'C': 0.1, 'penalty': 'l2', 'solver': 'lbfgs'}         0.892951   \n",
       "5    {'C': 1, 'penalty': 'l1', 'solver': 'liblinear'}         0.892951   \n",
       "9   {'C': 10, 'penalty': 'l1', 'solver': 'liblinear'}         0.892951   \n",
       "\n",
       "    rank_test_score  \n",
       "3                 1  \n",
       "11                2  \n",
       "2                 3  \n",
       "5                 4  \n",
       "9                 5  "
      ]
     },
     "execution_count": 80,
     "metadata": {},
     "output_type": "execute_result"
    }
   ],
   "source": [
    "pd.DataFrame(grid_log.cv_results_)[['params','mean_test_score','rank_test_score']].sort_values('rank_test_score').head()"
   ]
  },
  {
   "cell_type": "markdown",
   "id": "f3db651f",
   "metadata": {},
   "source": [
    "### Random forest"
   ]
  },
  {
   "cell_type": "code",
   "execution_count": 73,
   "id": "05ec1da7",
   "metadata": {},
   "outputs": [],
   "source": [
    "%%time\n",
    "\n",
    "clf = RandomForestClassifier(random_state=1)\n",
    "skf = StratifiedKFold(n_splits=5, shuffle=True, random_state=1)\n",
    "\n",
    "params = {'max_depth': np.arange(5,11)}\n",
    "\n",
    "grid_rf = GridSearchCV(clf, params, cv=skf).fit(X_res, y_res)"
   ]
  },
  {
   "cell_type": "code",
   "execution_count": 74,
   "id": "90296e41",
   "metadata": {
    "scrolled": true
   },
   "outputs": [
    {
     "name": "stdout",
     "output_type": "stream",
     "text": [
      "0.900432173047083\n",
      "{'max_depth': 10}\n"
     ]
    }
   ],
   "source": [
    "print(grid_rf.best_score_)\n",
    "print(grid_rf.best_params_)"
   ]
  },
  {
   "cell_type": "code",
   "execution_count": 76,
   "id": "8bae7336",
   "metadata": {},
   "outputs": [
    {
     "data": {
      "text/html": [
       "<div>\n",
       "<style scoped>\n",
       "    .dataframe tbody tr th:only-of-type {\n",
       "        vertical-align: middle;\n",
       "    }\n",
       "\n",
       "    .dataframe tbody tr th {\n",
       "        vertical-align: top;\n",
       "    }\n",
       "\n",
       "    .dataframe thead th {\n",
       "        text-align: right;\n",
       "    }\n",
       "</style>\n",
       "<table border=\"1\" class=\"dataframe\">\n",
       "  <thead>\n",
       "    <tr style=\"text-align: right;\">\n",
       "      <th></th>\n",
       "      <th>params</th>\n",
       "      <th>mean_test_score</th>\n",
       "      <th>rank_test_score</th>\n",
       "    </tr>\n",
       "  </thead>\n",
       "  <tbody>\n",
       "    <tr>\n",
       "      <th>7</th>\n",
       "      <td>{'max_depth': 10}</td>\n",
       "      <td>0.900432</td>\n",
       "      <td>1</td>\n",
       "    </tr>\n",
       "    <tr>\n",
       "      <th>6</th>\n",
       "      <td>{'max_depth': 9}</td>\n",
       "      <td>0.900399</td>\n",
       "      <td>2</td>\n",
       "    </tr>\n",
       "    <tr>\n",
       "      <th>5</th>\n",
       "      <td>{'max_depth': 8}</td>\n",
       "      <td>0.900137</td>\n",
       "      <td>3</td>\n",
       "    </tr>\n",
       "    <tr>\n",
       "      <th>3</th>\n",
       "      <td>{'max_depth': 6}</td>\n",
       "      <td>0.899231</td>\n",
       "      <td>4</td>\n",
       "    </tr>\n",
       "    <tr>\n",
       "      <th>4</th>\n",
       "      <td>{'max_depth': 7}</td>\n",
       "      <td>0.899220</td>\n",
       "      <td>5</td>\n",
       "    </tr>\n",
       "  </tbody>\n",
       "</table>\n",
       "</div>"
      ],
      "text/plain": [
       "              params  mean_test_score  rank_test_score\n",
       "7  {'max_depth': 10}         0.900432                1\n",
       "6   {'max_depth': 9}         0.900399                2\n",
       "5   {'max_depth': 8}         0.900137                3\n",
       "3   {'max_depth': 6}         0.899231                4\n",
       "4   {'max_depth': 7}         0.899220                5"
      ]
     },
     "execution_count": 76,
     "metadata": {},
     "output_type": "execute_result"
    }
   ],
   "source": [
    "pd.DataFrame(grid_rf.cv_results_)[['params','mean_test_score','rank_test_score']].sort_values('rank_test_score').head()"
   ]
  },
  {
   "cell_type": "markdown",
   "id": "523603f8",
   "metadata": {},
   "source": [
    "### Evaluating holdout set"
   ]
  },
  {
   "cell_type": "code",
   "execution_count": 102,
   "id": "043a4402",
   "metadata": {},
   "outputs": [],
   "source": [
    "# After GridSearchCV/RandomizedSearchCV on all clf, run the best clf again with the best params\n",
    "model_rf = RandomForestClassifier(max_depth=10, random_state=1).fit(X_res, y_res)\n",
    "\n",
    "# Evaluate using holdout set\n",
    "X_test = df_holdout.drop('Died', axis=1)\n",
    "y_test = df_holdout['Died']\n",
    "\n",
    "# For evaluating precision, recall, F1, AUC score\n",
    "y_pred = model_rf.predict(X_test)\n",
    "y_prob = model_rf.predict_proba(X_test)"
   ]
  },
  {
   "cell_type": "code",
   "execution_count": 103,
   "id": "db9ff8e3",
   "metadata": {
    "scrolled": true
   },
   "outputs": [
    {
     "name": "stdout",
     "output_type": "stream",
     "text": [
      "Training score: 0.903\n",
      "Testing score: 0.895\n",
      "Precision score: 0.404\n",
      "Recall score: 0.916\n",
      "F1 score: 0.56\n",
      "AUC score: 0.951\n"
     ]
    }
   ],
   "source": [
    "# Accuracy score of testing data\n",
    "print('Training score:', round(model_rf.score(X_res, y_res),3))\n",
    "print('Testing score:', round(model_rf.score(X_test, y_test),3))\n",
    "print('Precision score:', round(precision_score(y_test, y_pred),3))\n",
    "print('Recall score:', round(recall_score(y_test, y_pred),3))\n",
    "print('F1 score:', round(f1_score(y_test, y_pred),3))\n",
    "print('AUC score:', round(roc_auc_score(y_test, y_prob[:,1]),3))"
   ]
  },
  {
   "cell_type": "code",
   "execution_count": 104,
   "id": "6028ce9b",
   "metadata": {},
   "outputs": [
    {
     "data": {
      "text/plain": [
       "['covid_randomforest']"
      ]
     },
     "execution_count": 104,
     "metadata": {},
     "output_type": "execute_result"
    }
   ],
   "source": [
    "joblib.dump(model_rf, 'covid_randomforest') # save model"
   ]
  },
  {
   "cell_type": "code",
   "execution_count": 105,
   "id": "577ad4d7",
   "metadata": {},
   "outputs": [],
   "source": [
    "model = joblib.load('covid_randomforest') # load model"
   ]
  },
  {
   "cell_type": "code",
   "execution_count": 106,
   "id": "e73ea94e",
   "metadata": {
    "scrolled": true
   },
   "outputs": [
    {
     "data": {
      "text/plain": [
       "array(['Age', 'Sex', 'Pneumonia', 'Diabetes', 'COPD', 'Asthma',\n",
       "       'Immunosuppressed', 'Hypertension', 'Cardiovascular', 'Obese',\n",
       "       'Chronic renal', 'Smoke', 'Hospitalized'], dtype=object)"
      ]
     },
     "execution_count": 106,
     "metadata": {},
     "output_type": "execute_result"
    }
   ],
   "source": [
    "model.feature_names_in_"
   ]
  },
  {
   "cell_type": "code",
   "execution_count": 107,
   "id": "23c8b084",
   "metadata": {},
   "outputs": [
    {
     "data": {
      "text/plain": [
       "array([[0.98952226, 0.01047774]])"
      ]
     },
     "execution_count": 107,
     "metadata": {},
     "output_type": "execute_result"
    }
   ],
   "source": [
    "model.predict_proba([[18,0,0,0,0,0,0,0,0,0,0,0,0]])"
   ]
  },
  {
   "cell_type": "code",
   "execution_count": 108,
   "id": "cfbb9475",
   "metadata": {},
   "outputs": [
    {
     "data": {
      "image/png": "[encoded data removed]",
      "text/plain": [
       "<Figure size 640x480 with 2 Axes>"
      ]
     },
     "metadata": {},
     "output_type": "display_data"
    }
   ],
   "source": [
    "ConfusionMatrixDisplay.from_estimator(model, X_test, y_test, cmap='crest')\n",
    "plt.show()"
   ]
  },
  {
   "cell_type": "code",
   "execution_count": 118,
   "id": "4df223bd",
   "metadata": {},
   "outputs": [
    {
     "data": {
      "image/png": "[encoded data removed]",
      "text/plain": [
       "<Figure size 640x480 with 1 Axes>"
      ]
     },
     "metadata": {},
     "output_type": "display_data"
    }
   ],
   "source": [
    "RocCurveDisplay.from_estimator(model, X_test, y_test)\n",
    "plt.show()"
   ]
  },
  {
   "cell_type": "code",
   "execution_count": null,
   "id": "7606a253",
   "metadata": {},
   "outputs": [],
   "source": []
  }
 ],
 "metadata": {
  "kernelspec": {
   "display_name": "Python 3 (ipykernel)",
   "language": "python",
   "name": "python3"
  },
  "language_info": {
   "codemirror_mode": {
    "name": "ipython",
    "version": 3
   },
   "file_extension": ".py",
   "mimetype": "text/x-python",
   "name": "python",
   "nbconvert_exporter": "python",
   "pygments_lexer": "ipython3",
   "version": "3.9.13"
  }
 },
 "nbformat": 4,
 "nbformat_minor": 5
}
